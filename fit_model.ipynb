{
 "cells": [
  {
   "cell_type": "code",
   "execution_count": 12,
   "metadata": {},
   "outputs": [],
   "source": [
    "import pandas as pd\n",
    "from utils.train_eval import train_model"
   ]
  },
  {
   "cell_type": "code",
   "execution_count": 13,
   "metadata": {},
   "outputs": [
    {
     "name": "stdout",
     "output_type": "stream",
     "text": [
      "Mode: RAW\n",
      "RandomForest model saved at 'raw_ckpt\\randomforest_model.pkl'\n",
      "XGBoost model saved at 'raw_ckpt\\xgboost_model.pkl'\n",
      "LogisticRegression model saved at 'raw_ckpt\\logisticregression_model.pkl'\n",
      "SVM model saved at 'raw_ckpt\\svm_model.pkl'\n",
      "KNeighbors model saved at 'raw_ckpt\\kneighbors_model.pkl'\n",
      "DecisionTree model saved at 'raw_ckpt\\decisiontree_model.pkl'\n",
      "GradientBoosting model saved at 'raw_ckpt\\gradientboosting_model.pkl'\n",
      "\n",
      "\n",
      "Mode: PCA\n",
      "RandomForest model saved at 'pca_ckpt\\randomforest_model.pkl'\n",
      "XGBoost model saved at 'pca_ckpt\\xgboost_model.pkl'\n",
      "LogisticRegression model saved at 'pca_ckpt\\logisticregression_model.pkl'\n",
      "SVM model saved at 'pca_ckpt\\svm_model.pkl'\n",
      "KNeighbors model saved at 'pca_ckpt\\kneighbors_model.pkl'\n",
      "DecisionTree model saved at 'pca_ckpt\\decisiontree_model.pkl'\n",
      "GradientBoosting model saved at 'pca_ckpt\\gradientboosting_model.pkl'\n",
      "\n",
      "\n"
     ]
    }
   ],
   "source": [
    "target = 'What is your intake?'\n",
    "models = [\n",
    "    \"RandomForest\", \n",
    "    \"XGBoost\", \n",
    "    \"LogisticRegression\", \n",
    "    \"SVM\", \n",
    "    \"KNeighbors\", \n",
    "    \"DecisionTree\", \n",
    "    \"GradientBoosting\"\n",
    "]\n",
    "\n",
    "for mode in ['raw', 'pca']:\n",
    "    file_name = f'train_{mode}.csv' if mode == 'pca' else 'train.csv'\n",
    "    train = pd.read_csv(file_name)\n",
    "\n",
    "    print('Mode:', mode.upper())\n",
    "    for model in models:\n",
    "        train_model(model, train, target, mode)\n",
    "    print('\\n')"
   ]
  }
 ],
 "metadata": {
  "kernelspec": {
   "display_name": "env",
   "language": "python",
   "name": "python3"
  },
  "language_info": {
   "codemirror_mode": {
    "name": "ipython",
    "version": 3
   },
   "file_extension": ".py",
   "mimetype": "text/x-python",
   "name": "python",
   "nbconvert_exporter": "python",
   "pygments_lexer": "ipython3",
   "version": "3.10.7"
  }
 },
 "nbformat": 4,
 "nbformat_minor": 2
}
