{
 "cells": [
  {
   "cell_type": "code",
   "execution_count": null,
   "metadata": {},
   "outputs": [],
   "source": [
    "import pandas as pd\n",
    "import matplotlib.pyplot as plt\n",
    "import seaborn as sns\n",
    "from sklearn.preprocessing import StandardScaler\n",
    "from sklearn.decomposition import PCA\n",
    "from utils.pca_utils import k_components\n",
    "import numpy as np"
   ]
  },
  {
   "cell_type": "code",
   "execution_count": 11,
   "metadata": {},
   "outputs": [],
   "source": [
    "# Load the dataset\n",
    "df = pd.read_csv('dataset.csv')\n",
    "\n",
    "# Ensure the timestamp column is in datetime format\n",
    "df['Timestamp'] = pd.to_datetime(df['Timestamp'])\n",
    "\n",
    "# Convert the target column to string\n",
    "target_column = 'What is your intake?'  # Replace with your actual target column name\n",
    "df[target_column] = df[target_column].astype(str)\n",
    "df = df[df[target_column].isin(['2021', '2024'])].reset_index(drop=True)\n",
    "\n",
    "# Drop the 'Timestamp' column\n",
    "df = df.drop('Timestamp', axis=1)"
   ]
  },
  {
   "cell_type": "markdown",
   "metadata": {},
   "source": [
    "dummies"
   ]
  },
  {
   "cell_type": "code",
   "execution_count": 12,
   "metadata": {},
   "outputs": [],
   "source": [
    "X = df.drop(target_column, axis = 1)\n",
    "y = df[target_column]\n",
    "\n",
    "cols = X.columns\n",
    "X_dummies = pd.get_dummies(X, columns= cols).astype(int)"
   ]
  },
  {
   "cell_type": "markdown",
   "metadata": {},
   "source": [
    "Overal Score calculation"
   ]
  },
  {
   "cell_type": "code",
   "execution_count": 13,
   "metadata": {},
   "outputs": [],
   "source": [
    "# Initialize an empty list to hold the overall scores\n",
    "overall_scores = []\n",
    "\n",
    "# Loop through each row in the DataFrame\n",
    "for index, row in X_dummies.iterrows():\n",
    "    score = 0\n",
    "    # Loop through each column and calculate the weighted sum\n",
    "    for col in X_dummies.columns:\n",
    "        # Extract the sub-question number from the column name (e.g., Q1_1 -> 1)\n",
    "        sub_question = int(float(col.split('_')[1]))\n",
    "        score += row[col] * sub_question  # Multiply the value by the sub-question number\n",
    "    overall_scores.append(score)\n",
    "\n",
    "# Add the overall scores as a new column to the DataFrame\n",
    "X_dummies['Overall_Satisfaction'] = overall_scores"
   ]
  },
  {
   "cell_type": "markdown",
   "metadata": {},
   "source": [
    "PCA"
   ]
  },
  {
   "cell_type": "code",
   "execution_count": 14,
   "metadata": {},
   "outputs": [
    {
     "name": "stdout",
     "output_type": "stream",
     "text": [
      "k = 27\n"
     ]
    }
   ],
   "source": [
    "new_target = 'Overall_Satisfaction'\n",
    "X, y = X_dummies.drop(columns=new_target), X_dummies[new_target]\n",
    "\n",
    "scaler = StandardScaler()\n",
    "X_scaled = scaler.fit_transform(X)\n",
    "\n",
    "k = k_components(new_target, X_dummies, 0.9)\n",
    "\n",
    "pca = PCA(n_components=k)\n",
    "X_pca = pca.fit_transform(X_scaled)\n",
    "\n",
    "train_pca = pd.DataFrame(X_pca, columns=[f'PC{i+1}' for i in range(k)])\n",
    "train_pca[new_target] = y.reset_index(drop=True)"
   ]
  },
  {
   "cell_type": "markdown",
   "metadata": {},
   "source": [
    "PC1 top features"
   ]
  },
  {
   "cell_type": "code",
   "execution_count": 15,
   "metadata": {},
   "outputs": [],
   "source": [
    "pca_loadings = np.abs(pca.components_[0])  # Loadings for PC1 (absolute values)\n",
    "features = X.columns  # Feature names\n",
    "\n",
    "# Create a DataFrame for PCA loadings\n",
    "pca_df = pd.DataFrame({\n",
    "    \"Feature\": features,\n",
    "    \"PCA Loading\": pca_loadings\n",
    "}).sort_values(by=\"PCA Loading\", ascending=False)"
   ]
  },
  {
   "cell_type": "code",
   "execution_count": 16,
   "metadata": {},
   "outputs": [
    {
     "data": {
      "text/html": [
       "<div>\n",
       "<style scoped>\n",
       "    .dataframe tbody tr th:only-of-type {\n",
       "        vertical-align: middle;\n",
       "    }\n",
       "\n",
       "    .dataframe tbody tr th {\n",
       "        vertical-align: top;\n",
       "    }\n",
       "\n",
       "    .dataframe thead th {\n",
       "        text-align: right;\n",
       "    }\n",
       "</style>\n",
       "<table border=\"1\" class=\"dataframe\">\n",
       "  <thead>\n",
       "    <tr style=\"text-align: right;\">\n",
       "      <th></th>\n",
       "      <th>Feature</th>\n",
       "      <th>PCA Loading</th>\n",
       "    </tr>\n",
       "  </thead>\n",
       "  <tbody>\n",
       "    <tr>\n",
       "      <th>15</th>\n",
       "      <td>Are labs regularly maintained?_4</td>\n",
       "      <td>0.236799</td>\n",
       "    </tr>\n",
       "    <tr>\n",
       "      <th>35</th>\n",
       "      <td>How well-maintained are the classrooms (e.g., ...</td>\n",
       "      <td>0.230675</td>\n",
       "    </tr>\n",
       "    <tr>\n",
       "      <th>43</th>\n",
       "      <td>Are the sports facilities adequately maintaine...</td>\n",
       "      <td>0.225500</td>\n",
       "    </tr>\n",
       "  </tbody>\n",
       "</table>\n",
       "</div>"
      ],
      "text/plain": [
       "                                              Feature  PCA Loading\n",
       "15                   Are labs regularly maintained?_4     0.236799\n",
       "35  How well-maintained are the classrooms (e.g., ...     0.230675\n",
       "43  Are the sports facilities adequately maintaine...     0.225500"
      ]
     },
     "execution_count": 16,
     "metadata": {},
     "output_type": "execute_result"
    }
   ],
   "source": [
    "pca_df.head(3)"
   ]
  },
  {
   "cell_type": "code",
   "execution_count": 17,
   "metadata": {},
   "outputs": [],
   "source": [
    "# # Plot PCA Loadings\n",
    "# plt.figure(figsize=(10, 30))\n",
    "# plt.barh(pca_df[\"Feature\"], pca_df[\"PCA Loading\"], color='skyblue')\n",
    "# plt.title(\"Feature Contributions to Overall Satisfaction (PCA - PC1)\")\n",
    "# plt.xlabel(\"PCA Loading\")\n",
    "# plt.ylabel(\"Features\")\n",
    "# plt.gca().invert_yaxis()  # Highest loading on top\n",
    "# plt.tight_layout()\n",
    "# plt.show()"
   ]
  }
 ],
 "metadata": {
  "kernelspec": {
   "display_name": "env",
   "language": "python",
   "name": "python3"
  },
  "language_info": {
   "codemirror_mode": {
    "name": "ipython",
    "version": 3
   },
   "file_extension": ".py",
   "mimetype": "text/x-python",
   "name": "python",
   "nbconvert_exporter": "python",
   "pygments_lexer": "ipython3",
   "version": "3.10.7"
  }
 },
 "nbformat": 4,
 "nbformat_minor": 2
}
