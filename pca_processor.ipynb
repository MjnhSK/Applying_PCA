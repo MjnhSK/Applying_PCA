{
 "cells": [
  {
   "cell_type": "code",
   "execution_count": 8,
   "metadata": {},
   "outputs": [],
   "source": [
    "import pandas as pd\n",
    "from sklearn.preprocessing import StandardScaler\n",
    "from sklearn.decomposition import PCA\n",
    "import joblib\n",
    "from utils.pca_utils import k_components\n",
    "import os"
   ]
  },
  {
   "cell_type": "code",
   "execution_count": 9,
   "metadata": {},
   "outputs": [],
   "source": [
    "df_train = pd.read_csv(f'train.csv')\n",
    "df_val = pd.read_csv(f'val.csv')\n",
    "df_test = pd.read_csv(f'test.csv')\n",
    "\n",
    "target = 'What is your intake?'"
   ]
  },
  {
   "cell_type": "code",
   "execution_count": 10,
   "metadata": {},
   "outputs": [
    {
     "name": "stdout",
     "output_type": "stream",
     "text": [
      "k = 14\n"
     ]
    },
    {
     "data": {
      "text/plain": [
       "['pca_ckpt\\\\pca_model.pkl']"
      ]
     },
     "execution_count": 10,
     "metadata": {},
     "output_type": "execute_result"
    }
   ],
   "source": [
    "X_train, y_train = df_train.drop(columns=target), df_train[target]\n",
    "X_val, y_val = df_val.drop(columns=target), df_val[target]\n",
    "X_test, y_test = df_test.drop(columns=target), df_test[target]\n",
    "\n",
    "scaler = StandardScaler()\n",
    "X_train_scaled = scaler.fit_transform(X_train)\n",
    "X_val_scaled = scaler.transform(X_val)\n",
    "X_test_scaled = scaler.transform(X_test)\n",
    "\n",
    "k = k_components(target, df_train, 0.9)\n",
    "\n",
    "pca = PCA(n_components=k)\n",
    "X_train_pca = pca.fit_transform(X_train_scaled)\n",
    "X_val_pca = pca.transform(X_val_scaled)\n",
    "X_test_pca = pca.transform(X_test_scaled)\n",
    "\n",
    "train_pca = pd.DataFrame(X_train_pca, columns=[f'PC{i+1}' for i in range(k)])\n",
    "train_pca[target] = y_train.reset_index(drop=True)\n",
    "\n",
    "val_pca = pd.DataFrame(X_val_pca, columns=[f'PC{i+1}' for i in range(k)])\n",
    "val_pca[target] = y_val.reset_index(drop=True)\n",
    "\n",
    "test_pca = pd.DataFrame(X_test_pca, columns=[f'PC{i+1}' for i in range(k)])\n",
    "test_pca[target] = y_test.reset_index(drop=True)\n",
    "\n",
    "train_pca.to_csv(f\"train_pca.csv\", index=False)\n",
    "val_pca.to_csv(f\"val_pca.csv\", index=False)\n",
    "test_pca.to_csv(f\"test_pca.csv\", index=False)\n",
    "\n",
    "# Define the folder path and model name\n",
    "folder_name = \"pca_ckpt\"\n",
    "model_file_name = \"pca_model.pkl\"\n",
    "\n",
    "# Create the folder if it doesn't exist\n",
    "os.makedirs(folder_name, exist_ok=True)\n",
    "\n",
    "# Save the model\n",
    "path = os.path.join(folder_name, model_file_name)\n",
    "\n",
    "joblib.dump(scaler, 'scaler.pkl')\n",
    "joblib.dump(pca, path)\n"
   ]
  }
 ],
 "metadata": {
  "kernelspec": {
   "display_name": "env",
   "language": "python",
   "name": "python3"
  },
  "language_info": {
   "codemirror_mode": {
    "name": "ipython",
    "version": 3
   },
   "file_extension": ".py",
   "mimetype": "text/x-python",
   "name": "python",
   "nbconvert_exporter": "python",
   "pygments_lexer": "ipython3",
   "version": "3.10.7"
  }
 },
 "nbformat": 4,
 "nbformat_minor": 2
}
