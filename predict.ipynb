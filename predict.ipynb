{
 "cells": [
  {
   "cell_type": "code",
   "execution_count": 21,
   "metadata": {},
   "outputs": [],
   "source": [
    "import pandas as pd\n",
    "from utils.train_eval import evaluate_model"
   ]
  },
  {
   "cell_type": "code",
   "execution_count": 22,
   "metadata": {},
   "outputs": [
    {
     "name": "stdout",
     "output_type": "stream",
     "text": [
      "Mode: RAW\n",
      "                Model  Accuracy  F1 Score  Precision  Recall\n",
      "0        RandomForest    0.4375  0.417004   0.427273  0.4375\n",
      "1             XGBoost    0.3750  0.365079   0.366667  0.3750\n",
      "2  LogisticRegression    0.3750  0.365079   0.366667  0.3750\n",
      "3                 SVM    0.4375  0.435294   0.436508  0.4375\n",
      "4          KNeighbors    0.4375  0.417004   0.427273  0.4375\n",
      "5        DecisionTree    0.5625  0.560784   0.563492  0.5625\n",
      "6    GradientBoosting    0.4375  0.435294   0.436508  0.4375\n",
      "\n",
      "\n",
      "\n",
      "Mode: PCA\n",
      "                Model  Accuracy  F1 Score  Precision  Recall\n",
      "0        RandomForest    0.5625  0.560784   0.563492  0.5625\n",
      "1             XGBoost    0.5000  0.500000   0.500000  0.5000\n",
      "2  LogisticRegression    0.4375  0.435294   0.436508  0.4375\n",
      "3                 SVM    0.5625  0.560784   0.563492  0.5625\n",
      "4          KNeighbors    0.5000  0.500000   0.500000  0.5000\n",
      "5        DecisionTree    0.4375  0.417004   0.427273  0.4375\n",
      "6    GradientBoosting    0.5625  0.546559   0.572727  0.5625\n",
      "\n",
      "\n",
      "\n"
     ]
    }
   ],
   "source": [
    "target = 'What is your intake?'\n",
    "models = [\n",
    "    \"RandomForest\", \n",
    "    \"XGBoost\", \n",
    "    \"LogisticRegression\", \n",
    "    \"SVM\", \n",
    "    \"KNeighbors\", \n",
    "    \"DecisionTree\", \n",
    "    \"GradientBoosting\"\n",
    "]\n",
    "\n",
    "for mode in ['raw', 'pca']:\n",
    "    file_name = f'test_{mode}.csv' if mode == 'pca' else 'test.csv'\n",
    "    test = pd.read_csv(file_name)\n",
    "\n",
    "    # List to collect metrics\n",
    "    metrics_list = []\n",
    "\n",
    "    for model in models:\n",
    "        metrics_list.append(evaluate_model(model, test, target, mode))\n",
    "\n",
    "    # Combine all the model metrics into one DataFrame\n",
    "    final_metrics_df = pd.concat(metrics_list, ignore_index=True)\n",
    "\n",
    "    # Print the final metrics for all models\n",
    "    print('Mode:',mode.upper())\n",
    "    print(final_metrics_df)\n",
    "    print('\\n\\n')\n",
    "\n",
    "    # Optionally, save the metrics to a CSV file\n",
    "    final_metrics_df.to_csv(f\"{mode}_test_metrics.csv\", index=False)"
   ]
  }
 ],
 "metadata": {
  "kernelspec": {
   "display_name": "env",
   "language": "python",
   "name": "python3"
  },
  "language_info": {
   "codemirror_mode": {
    "name": "ipython",
    "version": 3
   },
   "file_extension": ".py",
   "mimetype": "text/x-python",
   "name": "python",
   "nbconvert_exporter": "python",
   "pygments_lexer": "ipython3",
   "version": "3.10.7"
  }
 },
 "nbformat": 4,
 "nbformat_minor": 2
}
